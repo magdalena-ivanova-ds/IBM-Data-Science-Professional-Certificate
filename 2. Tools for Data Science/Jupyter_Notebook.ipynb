{
 "cells": [
  {
   "cell_type": "markdown",
   "metadata": {},
   "source": [
    "<center>\n",
    "    <img src=\"https://cf-courses-data.s3.us.cloud-object-storage.appdomain.cloud/IBMDeveloperSkillsNetwork-DS0105EN-SkillsNetwork/labs/Module2/images/SN_web_lightmode.png\" width=\"300\" alt=\"cognitiveclass.ai logo\">\n",
    "</center>\n"
   ]
  },
  {
   "cell_type": "markdown",
   "metadata": {},
   "source": [
    "# Hands-on Lab: Create your Jupyter Notebook\n"
   ]
  },
  {
   "cell_type": "markdown",
   "metadata": {},
   "source": [
    "#### Add your code below following the instructions given in the course\n"
   ]
  },
  {
   "metadata": {},
   "cell_type": "markdown",
   "source": "# Final Project: Data Science Tools\n"
  },
  {
   "metadata": {},
   "cell_type": "markdown",
   "source": [
    "## Introduction\n",
    "This notebook contains exercises on Data Science tools, languages, libraries, and basic arithmetic expressions.\n"
   ]
  },
  {
   "metadata": {},
   "cell_type": "markdown",
   "source": [
    "## Data Science Languages\n",
    "1. Python\n",
    "2. R\n",
    "3. SQL\n",
    "4. Java\n",
    "5. Scala\n"
   ]
  },
  {
   "metadata": {},
   "cell_type": "markdown",
   "source": [
    "## Data Science Libraries\n",
    "1. Pandas\n",
    "2. NumPy\n",
    "3. Matplotlib\n",
    "4. Scikit-learn\n",
    "5. TensorFlow"
   ]
  },
  {
   "metadata": {},
   "cell_type": "markdown",
   "source": [
    "## Data Science Tools\n",
    "| Tool         | Usage                     |\n",
    "|--------------|---------------------------|\n",
    "| JupyterLab   | Interactive coding        |\n",
    "| RStudio      | R programming environment |\n",
    "| Apache Spark | Big data processing       |\n"
   ]
  },
  {
   "metadata": {},
   "cell_type": "markdown",
   "source": [
    "## Arithmetic Expressions\n",
    "Examples of basic arithmetic expressions include addition, subtraction, multiplication, and division.\n"
   ]
  },
  {
   "metadata": {
    "ExecuteTime": {
     "end_time": "2025-08-26T12:19:55.898384Z",
     "start_time": "2025-08-26T12:19:55.887392Z"
    }
   },
   "cell_type": "code",
   "source": [
    "# Multiply and Add numbers\n",
    "(3*4) + 5\n"
   ],
   "outputs": [
    {
     "data": {
      "text/plain": [
       "17"
      ]
     },
     "execution_count": 5,
     "metadata": {},
     "output_type": "execute_result"
    }
   ],
   "execution_count": 5
  },
  {
   "metadata": {
    "ExecuteTime": {
     "end_time": "2025-08-26T12:19:56.048662Z",
     "start_time": "2025-08-26T12:19:56.043114Z"
    }
   },
   "cell_type": "code",
   "source": [
    "# Convert minutes to hours\n",
    "minutes = 200\n",
    "hours = minutes / 60\n",
    "hours\n"
   ],
   "outputs": [
    {
     "data": {
      "text/plain": [
       "2.0"
      ]
     },
     "execution_count": 6,
     "metadata": {},
     "output_type": "execute_result"
    }
   ],
   "execution_count": 6
  },
  {
   "metadata": {},
   "cell_type": "markdown",
   "source": [
    "## Objectives\n",
    "- List popular Data Science languages\n",
    "- List commonly used Data Science libraries\n",
    "- Demonstrate arithmetic expressions\n",
    "- Share notebook through GitHub\n"
   ]
  },
  {
   "metadata": {},
   "cell_type": "markdown",
   "source": [
    "## Author\n",
    "**Magdalena Ivanova**\n"
   ]
  },
  {
   "metadata": {},
   "cell_type": "markdown",
   "source": "Copyright ©2024 IBM Corporation. All rights reserved.\n"
  }
 ],
 "metadata": {
  "kernelspec": {
   "display_name": "Python 3 (ipykernel)",
   "language": "python",
   "name": "python3"
  },
  "language_info": {
   "name": "python",
   "version": "3.7.12",
   "mimetype": "text/x-python",
   "codemirror_mode": {
    "name": "ipython",
    "version": 3
   },
   "pygments_lexer": "ipython3",
   "nbconvert_exporter": "python",
   "file_extension": ".py"
  },
  "prev_pub_hash": "9e1985db9844176462bd1d5863048c9f3d17404bbc6a648be9084b0c42b29347"
 },
 "nbformat": 4,
 "nbformat_minor": 4
}
